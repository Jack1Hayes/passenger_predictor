{
  "cells": [
    {
      "cell_type": "markdown",
      "metadata": {
        "id": "view-in-github",
        "colab_type": "text"
      },
      "source": [
        "<a href=\"https://colab.research.google.com/github/Jack1Hayes/passenger_predictor/blob/main/tensorflow_class.ipynb\" target=\"_parent\"><img src=\"https://colab.research.google.com/assets/colab-badge.svg\" alt=\"Open In Colab\"/></a>"
      ]
    },
    {
      "cell_type": "markdown",
      "metadata": {
        "id": "RAM4XiCqut38"
      },
      "source": [
        "# Task 2\n",
        "\n",
        "---\n",
        "\n",
        "## Predictive modeling of customer bookings\n",
        "\n",
        "This Jupyter notebook includes some code to get you started with this predictive modeling task. We will use various packages for data manipulation, feature engineering and machine learning.\n",
        "\n",
        "### Exploratory data analysis\n",
        "\n",
        "First, we must explore the data in order to better understand what we have and the statistical properties of the dataset."
      ]
    },
    {
      "cell_type": "code",
      "execution_count": null,
      "metadata": {
        "id": "ZUvwjo6cut4G"
      },
      "outputs": [],
      "source": [
        "import pandas as pd"
      ]
    },
    {
      "cell_type": "code",
      "execution_count": null,
      "metadata": {
        "colab": {
          "base_uri": "https://localhost:8080/",
          "height": 270
        },
        "id": "gKRrQy_Qut4I",
        "outputId": "e8accab2-749e-481e-8b6b-c8557626356c"
      },
      "outputs": [
        {
          "output_type": "execute_result",
          "data": {
            "text/plain": [
              "   num_passengers sales_channel  trip_type  purchase_lead  length_of_stay  \\\n",
              "0               2      Internet  RoundTrip            262              19   \n",
              "1               1      Internet  RoundTrip            112              20   \n",
              "2               2      Internet  RoundTrip            243              22   \n",
              "3               1      Internet  RoundTrip             96              31   \n",
              "4               2      Internet  RoundTrip             68              22   \n",
              "\n",
              "   flight_hour flight_day   route booking_origin  wants_extra_baggage  \\\n",
              "0            7        Sat  AKLDEL    New Zealand                    1   \n",
              "1            3        Sat  AKLDEL    New Zealand                    0   \n",
              "2           17        Wed  AKLDEL          India                    1   \n",
              "3            4        Sat  AKLDEL    New Zealand                    0   \n",
              "4           15        Wed  AKLDEL          India                    1   \n",
              "\n",
              "   wants_preferred_seat  wants_in_flight_meals  flight_duration  \\\n",
              "0                     0                      0             5.52   \n",
              "1                     0                      0             5.52   \n",
              "2                     1                      0             5.52   \n",
              "3                     0                      1             5.52   \n",
              "4                     0                      1             5.52   \n",
              "\n",
              "   booking_complete  \n",
              "0                 0  \n",
              "1                 0  \n",
              "2                 0  \n",
              "3                 0  \n",
              "4                 0  "
            ],
            "text/html": [
              "\n",
              "  <div id=\"df-a7a4e8e0-f39c-4e8b-b3b5-af209078f799\">\n",
              "    <div class=\"colab-df-container\">\n",
              "      <div>\n",
              "<style scoped>\n",
              "    .dataframe tbody tr th:only-of-type {\n",
              "        vertical-align: middle;\n",
              "    }\n",
              "\n",
              "    .dataframe tbody tr th {\n",
              "        vertical-align: top;\n",
              "    }\n",
              "\n",
              "    .dataframe thead th {\n",
              "        text-align: right;\n",
              "    }\n",
              "</style>\n",
              "<table border=\"1\" class=\"dataframe\">\n",
              "  <thead>\n",
              "    <tr style=\"text-align: right;\">\n",
              "      <th></th>\n",
              "      <th>num_passengers</th>\n",
              "      <th>sales_channel</th>\n",
              "      <th>trip_type</th>\n",
              "      <th>purchase_lead</th>\n",
              "      <th>length_of_stay</th>\n",
              "      <th>flight_hour</th>\n",
              "      <th>flight_day</th>\n",
              "      <th>route</th>\n",
              "      <th>booking_origin</th>\n",
              "      <th>wants_extra_baggage</th>\n",
              "      <th>wants_preferred_seat</th>\n",
              "      <th>wants_in_flight_meals</th>\n",
              "      <th>flight_duration</th>\n",
              "      <th>booking_complete</th>\n",
              "    </tr>\n",
              "  </thead>\n",
              "  <tbody>\n",
              "    <tr>\n",
              "      <th>0</th>\n",
              "      <td>2</td>\n",
              "      <td>Internet</td>\n",
              "      <td>RoundTrip</td>\n",
              "      <td>262</td>\n",
              "      <td>19</td>\n",
              "      <td>7</td>\n",
              "      <td>Sat</td>\n",
              "      <td>AKLDEL</td>\n",
              "      <td>New Zealand</td>\n",
              "      <td>1</td>\n",
              "      <td>0</td>\n",
              "      <td>0</td>\n",
              "      <td>5.52</td>\n",
              "      <td>0</td>\n",
              "    </tr>\n",
              "    <tr>\n",
              "      <th>1</th>\n",
              "      <td>1</td>\n",
              "      <td>Internet</td>\n",
              "      <td>RoundTrip</td>\n",
              "      <td>112</td>\n",
              "      <td>20</td>\n",
              "      <td>3</td>\n",
              "      <td>Sat</td>\n",
              "      <td>AKLDEL</td>\n",
              "      <td>New Zealand</td>\n",
              "      <td>0</td>\n",
              "      <td>0</td>\n",
              "      <td>0</td>\n",
              "      <td>5.52</td>\n",
              "      <td>0</td>\n",
              "    </tr>\n",
              "    <tr>\n",
              "      <th>2</th>\n",
              "      <td>2</td>\n",
              "      <td>Internet</td>\n",
              "      <td>RoundTrip</td>\n",
              "      <td>243</td>\n",
              "      <td>22</td>\n",
              "      <td>17</td>\n",
              "      <td>Wed</td>\n",
              "      <td>AKLDEL</td>\n",
              "      <td>India</td>\n",
              "      <td>1</td>\n",
              "      <td>1</td>\n",
              "      <td>0</td>\n",
              "      <td>5.52</td>\n",
              "      <td>0</td>\n",
              "    </tr>\n",
              "    <tr>\n",
              "      <th>3</th>\n",
              "      <td>1</td>\n",
              "      <td>Internet</td>\n",
              "      <td>RoundTrip</td>\n",
              "      <td>96</td>\n",
              "      <td>31</td>\n",
              "      <td>4</td>\n",
              "      <td>Sat</td>\n",
              "      <td>AKLDEL</td>\n",
              "      <td>New Zealand</td>\n",
              "      <td>0</td>\n",
              "      <td>0</td>\n",
              "      <td>1</td>\n",
              "      <td>5.52</td>\n",
              "      <td>0</td>\n",
              "    </tr>\n",
              "    <tr>\n",
              "      <th>4</th>\n",
              "      <td>2</td>\n",
              "      <td>Internet</td>\n",
              "      <td>RoundTrip</td>\n",
              "      <td>68</td>\n",
              "      <td>22</td>\n",
              "      <td>15</td>\n",
              "      <td>Wed</td>\n",
              "      <td>AKLDEL</td>\n",
              "      <td>India</td>\n",
              "      <td>1</td>\n",
              "      <td>0</td>\n",
              "      <td>1</td>\n",
              "      <td>5.52</td>\n",
              "      <td>0</td>\n",
              "    </tr>\n",
              "  </tbody>\n",
              "</table>\n",
              "</div>\n",
              "      <button class=\"colab-df-convert\" onclick=\"convertToInteractive('df-a7a4e8e0-f39c-4e8b-b3b5-af209078f799')\"\n",
              "              title=\"Convert this dataframe to an interactive table.\"\n",
              "              style=\"display:none;\">\n",
              "        \n",
              "  <svg xmlns=\"http://www.w3.org/2000/svg\" height=\"24px\"viewBox=\"0 0 24 24\"\n",
              "       width=\"24px\">\n",
              "    <path d=\"M0 0h24v24H0V0z\" fill=\"none\"/>\n",
              "    <path d=\"M18.56 5.44l.94 2.06.94-2.06 2.06-.94-2.06-.94-.94-2.06-.94 2.06-2.06.94zm-11 1L8.5 8.5l.94-2.06 2.06-.94-2.06-.94L8.5 2.5l-.94 2.06-2.06.94zm10 10l.94 2.06.94-2.06 2.06-.94-2.06-.94-.94-2.06-.94 2.06-2.06.94z\"/><path d=\"M17.41 7.96l-1.37-1.37c-.4-.4-.92-.59-1.43-.59-.52 0-1.04.2-1.43.59L10.3 9.45l-7.72 7.72c-.78.78-.78 2.05 0 2.83L4 21.41c.39.39.9.59 1.41.59.51 0 1.02-.2 1.41-.59l7.78-7.78 2.81-2.81c.8-.78.8-2.07 0-2.86zM5.41 20L4 18.59l7.72-7.72 1.47 1.35L5.41 20z\"/>\n",
              "  </svg>\n",
              "      </button>\n",
              "      \n",
              "  <style>\n",
              "    .colab-df-container {\n",
              "      display:flex;\n",
              "      flex-wrap:wrap;\n",
              "      gap: 12px;\n",
              "    }\n",
              "\n",
              "    .colab-df-convert {\n",
              "      background-color: #E8F0FE;\n",
              "      border: none;\n",
              "      border-radius: 50%;\n",
              "      cursor: pointer;\n",
              "      display: none;\n",
              "      fill: #1967D2;\n",
              "      height: 32px;\n",
              "      padding: 0 0 0 0;\n",
              "      width: 32px;\n",
              "    }\n",
              "\n",
              "    .colab-df-convert:hover {\n",
              "      background-color: #E2EBFA;\n",
              "      box-shadow: 0px 1px 2px rgba(60, 64, 67, 0.3), 0px 1px 3px 1px rgba(60, 64, 67, 0.15);\n",
              "      fill: #174EA6;\n",
              "    }\n",
              "\n",
              "    [theme=dark] .colab-df-convert {\n",
              "      background-color: #3B4455;\n",
              "      fill: #D2E3FC;\n",
              "    }\n",
              "\n",
              "    [theme=dark] .colab-df-convert:hover {\n",
              "      background-color: #434B5C;\n",
              "      box-shadow: 0px 1px 3px 1px rgba(0, 0, 0, 0.15);\n",
              "      filter: drop-shadow(0px 1px 2px rgba(0, 0, 0, 0.3));\n",
              "      fill: #FFFFFF;\n",
              "    }\n",
              "  </style>\n",
              "\n",
              "      <script>\n",
              "        const buttonEl =\n",
              "          document.querySelector('#df-a7a4e8e0-f39c-4e8b-b3b5-af209078f799 button.colab-df-convert');\n",
              "        buttonEl.style.display =\n",
              "          google.colab.kernel.accessAllowed ? 'block' : 'none';\n",
              "\n",
              "        async function convertToInteractive(key) {\n",
              "          const element = document.querySelector('#df-a7a4e8e0-f39c-4e8b-b3b5-af209078f799');\n",
              "          const dataTable =\n",
              "            await google.colab.kernel.invokeFunction('convertToInteractive',\n",
              "                                                     [key], {});\n",
              "          if (!dataTable) return;\n",
              "\n",
              "          const docLinkHtml = 'Like what you see? Visit the ' +\n",
              "            '<a target=\"_blank\" href=https://colab.research.google.com/notebooks/data_table.ipynb>data table notebook</a>'\n",
              "            + ' to learn more about interactive tables.';\n",
              "          element.innerHTML = '';\n",
              "          dataTable['output_type'] = 'display_data';\n",
              "          await google.colab.output.renderOutput(dataTable, element);\n",
              "          const docLink = document.createElement('div');\n",
              "          docLink.innerHTML = docLinkHtml;\n",
              "          element.appendChild(docLink);\n",
              "        }\n",
              "      </script>\n",
              "    </div>\n",
              "  </div>\n",
              "  "
            ]
          },
          "metadata": {},
          "execution_count": 314
        }
      ],
      "source": [
        "df = pd.read_csv(\"/content/customer_booking.csv\", encoding=\"ISO-8859-1\")\n",
        "\n",
        "#df = df[df.booking_origin != 'Australia']\n",
        "#df = df[df.sales_channel != 'Mobile']\n",
        "#df = df[df.flight_hour < 15]\n",
        "#df = df[df.length_of_stay < 25]\n",
        "#df.drop(labels='route', axis = 1)\n",
        "df.head()"
      ]
    },
    {
      "cell_type": "markdown",
      "metadata": {
        "id": "Jd9xa-uuut4K"
      },
      "source": [
        "The `.head()` method allows us to view the first 5 rows in the dataset, this is useful for visual inspection of our columns"
      ]
    },
    {
      "cell_type": "code",
      "execution_count": null,
      "metadata": {
        "colab": {
          "base_uri": "https://localhost:8080/"
        },
        "id": "Naexe2Qgut4K",
        "outputId": "27a8f85d-a86c-49d9-b536-033176d3b196"
      },
      "outputs": [
        {
          "output_type": "stream",
          "name": "stdout",
          "text": [
            "<class 'pandas.core.frame.DataFrame'>\n",
            "RangeIndex: 50000 entries, 0 to 49999\n",
            "Data columns (total 14 columns):\n",
            " #   Column                 Non-Null Count  Dtype  \n",
            "---  ------                 --------------  -----  \n",
            " 0   num_passengers         50000 non-null  int64  \n",
            " 1   sales_channel          50000 non-null  object \n",
            " 2   trip_type              50000 non-null  object \n",
            " 3   purchase_lead          50000 non-null  int64  \n",
            " 4   length_of_stay         50000 non-null  int64  \n",
            " 5   flight_hour            50000 non-null  int64  \n",
            " 6   flight_day             50000 non-null  object \n",
            " 7   route                  50000 non-null  object \n",
            " 8   booking_origin         50000 non-null  object \n",
            " 9   wants_extra_baggage    50000 non-null  int64  \n",
            " 10  wants_preferred_seat   50000 non-null  int64  \n",
            " 11  wants_in_flight_meals  50000 non-null  int64  \n",
            " 12  flight_duration        50000 non-null  float64\n",
            " 13  booking_complete       50000 non-null  int64  \n",
            "dtypes: float64(1), int64(8), object(5)\n",
            "memory usage: 5.3+ MB\n"
          ]
        }
      ],
      "source": [
        "df.info()"
      ]
    },
    {
      "cell_type": "markdown",
      "metadata": {
        "id": "NIeOlcM1ut4M"
      },
      "source": [
        "The `.info()` method gives us a data description, telling us the names of the columns, their data types and how many null values we have. Fortunately, we have no null values. It looks like some of these columns should be converted into different data types, e.g. flight_day.\n",
        "\n",
        "To provide more context, below is a more detailed data description, explaining exactly what each column means:\n",
        "\n",
        "- `num_passengers` = number of passengers travelling\n",
        "- `sales_channel` = sales channel booking was made on\n",
        "- `trip_type` = trip Type (Round Trip, One Way, Circle Trip)\n",
        "- `purchase_lead` = number of days between travel date and booking date\n",
        "- `length_of_stay` = number of days spent at destination\n",
        "- `flight_hour` = hour of flight departure\n",
        "- `flight_day` = day of week of flight departure\n",
        "- `route` = origin -> destination flight route\n",
        "- `booking_origin` = country from where booking was made\n",
        "- `wants_extra_baggage` = if the customer wanted extra baggage in the booking\n",
        "- `wants_preferred_seat` = if the customer wanted a preferred seat in the booking\n",
        "- `wants_in_flight_meals` = if the customer wanted in-flight meals in the booking\n",
        "- `flight_duration` = total duration of flight (in hours)\n",
        "- `booking_complete` = flag indicating if the customer completed the booking\n",
        "\n",
        "Before we compute any statistics on the data, lets do any necessary data conversion"
      ]
    },
    {
      "cell_type": "code",
      "execution_count": null,
      "metadata": {
        "colab": {
          "base_uri": "https://localhost:8080/"
        },
        "id": "qQcXLpWeut4N",
        "outputId": "a6c3b8eb-8406-42ff-b9b0-90d73227025a"
      },
      "outputs": [
        {
          "output_type": "execute_result",
          "data": {
            "text/plain": [
              "array(['Sat', 'Wed', 'Thu', 'Mon', 'Sun', 'Tue', 'Fri'], dtype=object)"
            ]
          },
          "metadata": {},
          "execution_count": 316
        }
      ],
      "source": [
        "df[\"flight_day\"].unique()"
      ]
    },
    {
      "cell_type": "code",
      "execution_count": null,
      "metadata": {
        "id": "iubb4cYNut4O"
      },
      "outputs": [],
      "source": [
        "mapping = {\n",
        "    \"Mon\": 1,\n",
        "    \"Tue\": 2,\n",
        "    \"Wed\": 3,\n",
        "    \"Thu\": 4,\n",
        "    \"Fri\": 5,\n",
        "    \"Sat\": 6,\n",
        "    \"Sun\": 7,\n",
        "}\n",
        "\n",
        "df[\"flight_day\"] = df[\"flight_day\"].map(mapping)"
      ]
    },
    {
      "cell_type": "code",
      "source": [
        "#plt.bar(df['flight_day'].value_counts(),df['booking_complete'])\n",
        "import seaborn as sns; sns.set(font_scale=1.2)\n",
        "\n",
        "sns.heatmap(df.corr())"
      ],
      "metadata": {
        "colab": {
          "base_uri": "https://localhost:8080/",
          "height": 427
        },
        "id": "di_TDTmnssNp",
        "outputId": "cad7cf21-d347-4268-8df7-39d65f7184cf"
      },
      "execution_count": null,
      "outputs": [
        {
          "output_type": "execute_result",
          "data": {
            "text/plain": [
              "<matplotlib.axes._subplots.AxesSubplot at 0x7f8bd2a40b20>"
            ]
          },
          "metadata": {},
          "execution_count": 318
        },
        {
          "output_type": "display_data",
          "data": {
            "text/plain": [
              "<Figure size 432x288 with 2 Axes>"
            ],
            "image/png": "[encoded data removed]"
          },
          "metadata": {}
        }
      ]
    },
    {
      "cell_type": "code",
      "execution_count": null,
      "metadata": {
        "colab": {
          "base_uri": "https://localhost:8080/",
          "height": 364
        },
        "id": "eWDfT7w1ut4R",
        "outputId": "c1df2a41-3540-4225-8cd6-33eabe833de7"
      },
      "outputs": [
        {
          "output_type": "execute_result",
          "data": {
            "text/plain": [
              "       num_passengers  purchase_lead  length_of_stay  flight_hour  \\\n",
              "count    50000.000000   50000.000000     50000.00000  50000.00000   \n",
              "mean         1.591240      84.940480        23.04456      9.06634   \n",
              "std          1.020165      90.451378        33.88767      5.41266   \n",
              "min          1.000000       0.000000         0.00000      0.00000   \n",
              "25%          1.000000      21.000000         5.00000      5.00000   \n",
              "50%          1.000000      51.000000        17.00000      9.00000   \n",
              "75%          2.000000     115.000000        28.00000     13.00000   \n",
              "max          9.000000     867.000000       778.00000     23.00000   \n",
              "\n",
              "         flight_day  wants_extra_baggage  wants_preferred_seat  \\\n",
              "count  50000.000000         50000.000000          50000.000000   \n",
              "mean       3.814420             0.668780              0.296960   \n",
              "std        1.992792             0.470657              0.456923   \n",
              "min        1.000000             0.000000              0.000000   \n",
              "25%        2.000000             0.000000              0.000000   \n",
              "50%        4.000000             1.000000              0.000000   \n",
              "75%        5.000000             1.000000              1.000000   \n",
              "max        7.000000             1.000000              1.000000   \n",
              "\n",
              "       wants_in_flight_meals  flight_duration  booking_complete  \n",
              "count           50000.000000     50000.000000      50000.000000  \n",
              "mean                0.427140         7.277561          0.149560  \n",
              "std                 0.494668         1.496863          0.356643  \n",
              "min                 0.000000         4.670000          0.000000  \n",
              "25%                 0.000000         5.620000          0.000000  \n",
              "50%                 0.000000         7.570000          0.000000  \n",
              "75%                 1.000000         8.830000          0.000000  \n",
              "max                 1.000000         9.500000          1.000000  "
            ],
            "text/html": [
              "\n",
              "  <div id=\"df-bc3ad566-eaa8-4583-825b-c4d0564143d7\">\n",
              "    <div class=\"colab-df-container\">\n",
              "      <div>\n",
              "<style scoped>\n",
              "    .dataframe tbody tr th:only-of-type {\n",
              "        vertical-align: middle;\n",
              "    }\n",
              "\n",
              "    .dataframe tbody tr th {\n",
              "        vertical-align: top;\n",
              "    }\n",
              "\n",
              "    .dataframe thead th {\n",
              "        text-align: right;\n",
              "    }\n",
              "</style>\n",
              "<table border=\"1\" class=\"dataframe\">\n",
              "  <thead>\n",
              "    <tr style=\"text-align: right;\">\n",
              "      <th></th>\n",
              "      <th>num_passengers</th>\n",
              "      <th>purchase_lead</th>\n",
              "      <th>length_of_stay</th>\n",
              "      <th>flight_hour</th>\n",
              "      <th>flight_day</th>\n",
              "      <th>wants_extra_baggage</th>\n",
              "      <th>wants_preferred_seat</th>\n",
              "      <th>wants_in_flight_meals</th>\n",
              "      <th>flight_duration</th>\n",
              "      <th>booking_complete</th>\n",
              "    </tr>\n",
              "  </thead>\n",
              "  <tbody>\n",
              "    <tr>\n",
              "      <th>count</th>\n",
              "      <td>50000.000000</td>\n",
              "      <td>50000.000000</td>\n",
              "      <td>50000.00000</td>\n",
              "      <td>50000.00000</td>\n",
              "      <td>50000.000000</td>\n",
              "      <td>50000.000000</td>\n",
              "      <td>50000.000000</td>\n",
              "      <td>50000.000000</td>\n",
              "      <td>50000.000000</td>\n",
              "      <td>50000.000000</td>\n",
              "    </tr>\n",
              "    <tr>\n",
              "      <th>mean</th>\n",
              "      <td>1.591240</td>\n",
              "      <td>84.940480</td>\n",
              "      <td>23.04456</td>\n",
              "      <td>9.06634</td>\n",
              "      <td>3.814420</td>\n",
              "      <td>0.668780</td>\n",
              "      <td>0.296960</td>\n",
              "      <td>0.427140</td>\n",
              "      <td>7.277561</td>\n",
              "      <td>0.149560</td>\n",
              "    </tr>\n",
              "    <tr>\n",
              "      <th>std</th>\n",
              "      <td>1.020165</td>\n",
              "      <td>90.451378</td>\n",
              "      <td>33.88767</td>\n",
              "      <td>5.41266</td>\n",
              "      <td>1.992792</td>\n",
              "      <td>0.470657</td>\n",
              "      <td>0.456923</td>\n",
              "      <td>0.494668</td>\n",
              "      <td>1.496863</td>\n",
              "      <td>0.356643</td>\n",
              "    </tr>\n",
              "    <tr>\n",
              "      <th>min</th>\n",
              "      <td>1.000000</td>\n",
              "      <td>0.000000</td>\n",
              "      <td>0.00000</td>\n",
              "      <td>0.00000</td>\n",
              "      <td>1.000000</td>\n",
              "      <td>0.000000</td>\n",
              "      <td>0.000000</td>\n",
              "      <td>0.000000</td>\n",
              "      <td>4.670000</td>\n",
              "      <td>0.000000</td>\n",
              "    </tr>\n",
              "    <tr>\n",
              "      <th>25%</th>\n",
              "      <td>1.000000</td>\n",
              "      <td>21.000000</td>\n",
              "      <td>5.00000</td>\n",
              "      <td>5.00000</td>\n",
              "      <td>2.000000</td>\n",
              "      <td>0.000000</td>\n",
              "      <td>0.000000</td>\n",
              "      <td>0.000000</td>\n",
              "      <td>5.620000</td>\n",
              "      <td>0.000000</td>\n",
              "    </tr>\n",
              "    <tr>\n",
              "      <th>50%</th>\n",
              "      <td>1.000000</td>\n",
              "      <td>51.000000</td>\n",
              "      <td>17.00000</td>\n",
              "      <td>9.00000</td>\n",
              "      <td>4.000000</td>\n",
              "      <td>1.000000</td>\n",
              "      <td>0.000000</td>\n",
              "      <td>0.000000</td>\n",
              "      <td>7.570000</td>\n",
              "      <td>0.000000</td>\n",
              "    </tr>\n",
              "    <tr>\n",
              "      <th>75%</th>\n",
              "      <td>2.000000</td>\n",
              "      <td>115.000000</td>\n",
              "      <td>28.00000</td>\n",
              "      <td>13.00000</td>\n",
              "      <td>5.000000</td>\n",
              "      <td>1.000000</td>\n",
              "      <td>1.000000</td>\n",
              "      <td>1.000000</td>\n",
              "      <td>8.830000</td>\n",
              "      <td>0.000000</td>\n",
              "    </tr>\n",
              "    <tr>\n",
              "      <th>max</th>\n",
              "      <td>9.000000</td>\n",
              "      <td>867.000000</td>\n",
              "      <td>778.00000</td>\n",
              "      <td>23.00000</td>\n",
              "      <td>7.000000</td>\n",
              "      <td>1.000000</td>\n",
              "      <td>1.000000</td>\n",
              "      <td>1.000000</td>\n",
              "      <td>9.500000</td>\n",
              "      <td>1.000000</td>\n",
              "    </tr>\n",
              "  </tbody>\n",
              "</table>\n",
              "</div>\n",
              "      <button class=\"colab-df-convert\" onclick=\"convertToInteractive('df-bc3ad566-eaa8-4583-825b-c4d0564143d7')\"\n",
              "              title=\"Convert this dataframe to an interactive table.\"\n",
              "              style=\"display:none;\">\n",
              "        \n",
              "  <svg xmlns=\"http://www.w3.org/2000/svg\" height=\"24px\"viewBox=\"0 0 24 24\"\n",
              "       width=\"24px\">\n",
              "    <path d=\"M0 0h24v24H0V0z\" fill=\"none\"/>\n",
              "    <path d=\"M18.56 5.44l.94 2.06.94-2.06 2.06-.94-2.06-.94-.94-2.06-.94 2.06-2.06.94zm-11 1L8.5 8.5l.94-2.06 2.06-.94-2.06-.94L8.5 2.5l-.94 2.06-2.06.94zm10 10l.94 2.06.94-2.06 2.06-.94-2.06-.94-.94-2.06-.94 2.06-2.06.94z\"/><path d=\"M17.41 7.96l-1.37-1.37c-.4-.4-.92-.59-1.43-.59-.52 0-1.04.2-1.43.59L10.3 9.45l-7.72 7.72c-.78.78-.78 2.05 0 2.83L4 21.41c.39.39.9.59 1.41.59.51 0 1.02-.2 1.41-.59l7.78-7.78 2.81-2.81c.8-.78.8-2.07 0-2.86zM5.41 20L4 18.59l7.72-7.72 1.47 1.35L5.41 20z\"/>\n",
              "  </svg>\n",
              "      </button>\n",
              "      \n",
              "  <style>\n",
              "    .colab-df-container {\n",
              "      display:flex;\n",
              "      flex-wrap:wrap;\n",
              "      gap: 12px;\n",
              "    }\n",
              "\n",
              "    .colab-df-convert {\n",
              "      background-color: #E8F0FE;\n",
              "      border: none;\n",
              "      border-radius: 50%;\n",
              "      cursor: pointer;\n",
              "      display: none;\n",
              "      fill: #1967D2;\n",
              "      height: 32px;\n",
              "      padding: 0 0 0 0;\n",
              "      width: 32px;\n",
              "    }\n",
              "\n",
              "    .colab-df-convert:hover {\n",
              "      background-color: #E2EBFA;\n",
              "      box-shadow: 0px 1px 2px rgba(60, 64, 67, 0.3), 0px 1px 3px 1px rgba(60, 64, 67, 0.15);\n",
              "      fill: #174EA6;\n",
              "    }\n",
              "\n",
              "    [theme=dark] .colab-df-convert {\n",
              "      background-color: #3B4455;\n",
              "      fill: #D2E3FC;\n",
              "    }\n",
              "\n",
              "    [theme=dark] .colab-df-convert:hover {\n",
              "      background-color: #434B5C;\n",
              "      box-shadow: 0px 1px 3px 1px rgba(0, 0, 0, 0.15);\n",
              "      filter: drop-shadow(0px 1px 2px rgba(0, 0, 0, 0.3));\n",
              "      fill: #FFFFFF;\n",
              "    }\n",
              "  </style>\n",
              "\n",
              "      <script>\n",
              "        const buttonEl =\n",
              "          document.querySelector('#df-bc3ad566-eaa8-4583-825b-c4d0564143d7 button.colab-df-convert');\n",
              "        buttonEl.style.display =\n",
              "          google.colab.kernel.accessAllowed ? 'block' : 'none';\n",
              "\n",
              "        async function convertToInteractive(key) {\n",
              "          const element = document.querySelector('#df-bc3ad566-eaa8-4583-825b-c4d0564143d7');\n",
              "          const dataTable =\n",
              "            await google.colab.kernel.invokeFunction('convertToInteractive',\n",
              "                                                     [key], {});\n",
              "          if (!dataTable) return;\n",
              "\n",
              "          const docLinkHtml = 'Like what you see? Visit the ' +\n",
              "            '<a target=\"_blank\" href=https://colab.research.google.com/notebooks/data_table.ipynb>data table notebook</a>'\n",
              "            + ' to learn more about interactive tables.';\n",
              "          element.innerHTML = '';\n",
              "          dataTable['output_type'] = 'display_data';\n",
              "          await google.colab.output.renderOutput(dataTable, element);\n",
              "          const docLink = document.createElement('div');\n",
              "          docLink.innerHTML = docLinkHtml;\n",
              "          element.appendChild(docLink);\n",
              "        }\n",
              "      </script>\n",
              "    </div>\n",
              "  </div>\n",
              "  "
            ]
          },
          "metadata": {},
          "execution_count": 319
        }
      ],
      "source": [
        "df.describe()"
      ]
    },
    {
      "cell_type": "markdown",
      "metadata": {
        "id": "w9-oqUCfut4S"
      },
      "source": [
        "The `.describe()` method gives us a summary of descriptive statistics over the entire dataset (only works for numeric columns). This gives us a quick overview of a few things such as the mean, min, max and overall distribution of each column.\n",
        "\n",
        "From this point, you should continue exploring the dataset with some visualisations and other metrics that you think may be useful. Then, you should prepare your dataset for predictive modelling. Finally, you should train your machine learning model, evaluate it with performance metrics and output visualisations for the contributing variables. All of this analysis should be summarised in your single slide."
      ]
    },
    {
      "cell_type": "markdown",
      "metadata": {
        "id": "SOgpT7PQut4T"
      },
      "source": []
    },
    {
      "cell_type": "markdown",
      "source": [
        "Split training and test data"
      ],
      "metadata": {
        "id": "kqmA8EYbBKRH"
      }
    },
    {
      "cell_type": "code",
      "source": [
        "from sklearn.model_selection import train_test_split\n",
        "\n",
        "train, test = train_test_split(df, test_size=0.2)\n",
        "y_train = train.pop('booking_complete')\n",
        "y_test = test.pop('booking_complete')\n"
      ],
      "metadata": {
        "id": "oAv1PiB3BHgQ"
      },
      "execution_count": null,
      "outputs": []
    },
    {
      "cell_type": "code",
      "source": [
        "y_train.head()"
      ],
      "metadata": {
        "colab": {
          "base_uri": "https://localhost:8080/"
        },
        "id": "P8GzOik0C3Ym",
        "outputId": "68b87b6f-aac4-4a92-dc22-119d96a961e1"
      },
      "execution_count": null,
      "outputs": [
        {
          "output_type": "execute_result",
          "data": {
            "text/plain": [
              "3145     0\n",
              "32430    1\n",
              "14701    0\n",
              "38520    0\n",
              "34422    0\n",
              "Name: booking_complete, dtype: int64"
            ]
          },
          "metadata": {},
          "execution_count": 321
        }
      ]
    },
    {
      "cell_type": "code",
      "source": [
        "y_test.head()"
      ],
      "metadata": {
        "colab": {
          "base_uri": "https://localhost:8080/"
        },
        "id": "F8fMJtpcD7u_",
        "outputId": "e79dcfe9-d8eb-4479-cd72-9519ea54e5d6"
      },
      "execution_count": null,
      "outputs": [
        {
          "output_type": "execute_result",
          "data": {
            "text/plain": [
              "47826    1\n",
              "13746    0\n",
              "10935    0\n",
              "34628    0\n",
              "23638    0\n",
              "Name: booking_complete, dtype: int64"
            ]
          },
          "metadata": {},
          "execution_count": 322
        }
      ]
    },
    {
      "cell_type": "code",
      "source": [
        "train.head()"
      ],
      "metadata": {
        "colab": {
          "base_uri": "https://localhost:8080/",
          "height": 270
        },
        "id": "6RRCwGyrEKGm",
        "outputId": "58bb4b78-0777-4200-e7e7-c8dbd63c3742"
      },
      "execution_count": null,
      "outputs": [
        {
          "output_type": "execute_result",
          "data": {
            "text/plain": [
              "       num_passengers sales_channel  trip_type  purchase_lead  length_of_stay  \\\n",
              "3145                1      Internet  RoundTrip             47              20   \n",
              "32430               1      Internet  RoundTrip            155               4   \n",
              "14701               1      Internet  RoundTrip            242              23   \n",
              "38520               1        Mobile  RoundTrip             39               5   \n",
              "34422               4      Internet  RoundTrip             22               4   \n",
              "\n",
              "       flight_hour  flight_day   route booking_origin  wants_extra_baggage  \\\n",
              "3145            13           5  CANMEL      Australia                    1   \n",
              "32430           13           7  HNDSIN       Malaysia                    1   \n",
              "14701           11           1  ICNSYD      Australia                    1   \n",
              "38520           13           1  HKTPVG          China                    0   \n",
              "34422            9           2  PENTPE       Malaysia                    1   \n",
              "\n",
              "       wants_preferred_seat  wants_in_flight_meals  flight_duration  \n",
              "3145                      1                      1             8.83  \n",
              "32430                     1                      1             7.57  \n",
              "14701                     0                      0             8.58  \n",
              "38520                     0                      0             5.33  \n",
              "34422                     1                      1             4.67  "
            ],
            "text/html": [
              "\n",
              "  <div id=\"df-5cccb28a-c2af-4e53-8f3e-b3052b6663fc\">\n",
              "    <div class=\"colab-df-container\">\n",
              "      <div>\n",
              "<style scoped>\n",
              "    .dataframe tbody tr th:only-of-type {\n",
              "        vertical-align: middle;\n",
              "    }\n",
              "\n",
              "    .dataframe tbody tr th {\n",
              "        vertical-align: top;\n",
              "    }\n",
              "\n",
              "    .dataframe thead th {\n",
              "        text-align: right;\n",
              "    }\n",
              "</style>\n",
              "<table border=\"1\" class=\"dataframe\">\n",
              "  <thead>\n",
              "    <tr style=\"text-align: right;\">\n",
              "      <th></th>\n",
              "      <th>num_passengers</th>\n",
              "      <th>sales_channel</th>\n",
              "      <th>trip_type</th>\n",
              "      <th>purchase_lead</th>\n",
              "      <th>length_of_stay</th>\n",
              "      <th>flight_hour</th>\n",
              "      <th>flight_day</th>\n",
              "      <th>route</th>\n",
              "      <th>booking_origin</th>\n",
              "      <th>wants_extra_baggage</th>\n",
              "      <th>wants_preferred_seat</th>\n",
              "      <th>wants_in_flight_meals</th>\n",
              "      <th>flight_duration</th>\n",
              "    </tr>\n",
              "  </thead>\n",
              "  <tbody>\n",
              "    <tr>\n",
              "      <th>3145</th>\n",
              "      <td>1</td>\n",
              "      <td>Internet</td>\n",
              "      <td>RoundTrip</td>\n",
              "      <td>47</td>\n",
              "      <td>20</td>\n",
              "      <td>13</td>\n",
              "      <td>5</td>\n",
              "      <td>CANMEL</td>\n",
              "      <td>Australia</td>\n",
              "      <td>1</td>\n",
              "      <td>1</td>\n",
              "      <td>1</td>\n",
              "      <td>8.83</td>\n",
              "    </tr>\n",
              "    <tr>\n",
              "      <th>32430</th>\n",
              "      <td>1</td>\n",
              "      <td>Internet</td>\n",
              "      <td>RoundTrip</td>\n",
              "      <td>155</td>\n",
              "      <td>4</td>\n",
              "      <td>13</td>\n",
              "      <td>7</td>\n",
              "      <td>HNDSIN</td>\n",
              "      <td>Malaysia</td>\n",
              "      <td>1</td>\n",
              "      <td>1</td>\n",
              "      <td>1</td>\n",
              "      <td>7.57</td>\n",
              "    </tr>\n",
              "    <tr>\n",
              "      <th>14701</th>\n",
              "      <td>1</td>\n",
              "      <td>Internet</td>\n",
              "      <td>RoundTrip</td>\n",
              "      <td>242</td>\n",
              "      <td>23</td>\n",
              "      <td>11</td>\n",
              "      <td>1</td>\n",
              "      <td>ICNSYD</td>\n",
              "      <td>Australia</td>\n",
              "      <td>1</td>\n",
              "      <td>0</td>\n",
              "      <td>0</td>\n",
              "      <td>8.58</td>\n",
              "    </tr>\n",
              "    <tr>\n",
              "      <th>38520</th>\n",
              "      <td>1</td>\n",
              "      <td>Mobile</td>\n",
              "      <td>RoundTrip</td>\n",
              "      <td>39</td>\n",
              "      <td>5</td>\n",
              "      <td>13</td>\n",
              "      <td>1</td>\n",
              "      <td>HKTPVG</td>\n",
              "      <td>China</td>\n",
              "      <td>0</td>\n",
              "      <td>0</td>\n",
              "      <td>0</td>\n",
              "      <td>5.33</td>\n",
              "    </tr>\n",
              "    <tr>\n",
              "      <th>34422</th>\n",
              "      <td>4</td>\n",
              "      <td>Internet</td>\n",
              "      <td>RoundTrip</td>\n",
              "      <td>22</td>\n",
              "      <td>4</td>\n",
              "      <td>9</td>\n",
              "      <td>2</td>\n",
              "      <td>PENTPE</td>\n",
              "      <td>Malaysia</td>\n",
              "      <td>1</td>\n",
              "      <td>1</td>\n",
              "      <td>1</td>\n",
              "      <td>4.67</td>\n",
              "    </tr>\n",
              "  </tbody>\n",
              "</table>\n",
              "</div>\n",
              "      <button class=\"colab-df-convert\" onclick=\"convertToInteractive('df-5cccb28a-c2af-4e53-8f3e-b3052b6663fc')\"\n",
              "              title=\"Convert this dataframe to an interactive table.\"\n",
              "              style=\"display:none;\">\n",
              "        \n",
              "  <svg xmlns=\"http://www.w3.org/2000/svg\" height=\"24px\"viewBox=\"0 0 24 24\"\n",
              "       width=\"24px\">\n",
              "    <path d=\"M0 0h24v24H0V0z\" fill=\"none\"/>\n",
              "    <path d=\"M18.56 5.44l.94 2.06.94-2.06 2.06-.94-2.06-.94-.94-2.06-.94 2.06-2.06.94zm-11 1L8.5 8.5l.94-2.06 2.06-.94-2.06-.94L8.5 2.5l-.94 2.06-2.06.94zm10 10l.94 2.06.94-2.06 2.06-.94-2.06-.94-.94-2.06-.94 2.06-2.06.94z\"/><path d=\"M17.41 7.96l-1.37-1.37c-.4-.4-.92-.59-1.43-.59-.52 0-1.04.2-1.43.59L10.3 9.45l-7.72 7.72c-.78.78-.78 2.05 0 2.83L4 21.41c.39.39.9.59 1.41.59.51 0 1.02-.2 1.41-.59l7.78-7.78 2.81-2.81c.8-.78.8-2.07 0-2.86zM5.41 20L4 18.59l7.72-7.72 1.47 1.35L5.41 20z\"/>\n",
              "  </svg>\n",
              "      </button>\n",
              "      \n",
              "  <style>\n",
              "    .colab-df-container {\n",
              "      display:flex;\n",
              "      flex-wrap:wrap;\n",
              "      gap: 12px;\n",
              "    }\n",
              "\n",
              "    .colab-df-convert {\n",
              "      background-color: #E8F0FE;\n",
              "      border: none;\n",
              "      border-radius: 50%;\n",
              "      cursor: pointer;\n",
              "      display: none;\n",
              "      fill: #1967D2;\n",
              "      height: 32px;\n",
              "      padding: 0 0 0 0;\n",
              "      width: 32px;\n",
              "    }\n",
              "\n",
              "    .colab-df-convert:hover {\n",
              "      background-color: #E2EBFA;\n",
              "      box-shadow: 0px 1px 2px rgba(60, 64, 67, 0.3), 0px 1px 3px 1px rgba(60, 64, 67, 0.15);\n",
              "      fill: #174EA6;\n",
              "    }\n",
              "\n",
              "    [theme=dark] .colab-df-convert {\n",
              "      background-color: #3B4455;\n",
              "      fill: #D2E3FC;\n",
              "    }\n",
              "\n",
              "    [theme=dark] .colab-df-convert:hover {\n",
              "      background-color: #434B5C;\n",
              "      box-shadow: 0px 1px 3px 1px rgba(0, 0, 0, 0.15);\n",
              "      filter: drop-shadow(0px 1px 2px rgba(0, 0, 0, 0.3));\n",
              "      fill: #FFFFFF;\n",
              "    }\n",
              "  </style>\n",
              "\n",
              "      <script>\n",
              "        const buttonEl =\n",
              "          document.querySelector('#df-5cccb28a-c2af-4e53-8f3e-b3052b6663fc button.colab-df-convert');\n",
              "        buttonEl.style.display =\n",
              "          google.colab.kernel.accessAllowed ? 'block' : 'none';\n",
              "\n",
              "        async function convertToInteractive(key) {\n",
              "          const element = document.querySelector('#df-5cccb28a-c2af-4e53-8f3e-b3052b6663fc');\n",
              "          const dataTable =\n",
              "            await google.colab.kernel.invokeFunction('convertToInteractive',\n",
              "                                                     [key], {});\n",
              "          if (!dataTable) return;\n",
              "\n",
              "          const docLinkHtml = 'Like what you see? Visit the ' +\n",
              "            '<a target=\"_blank\" href=https://colab.research.google.com/notebooks/data_table.ipynb>data table notebook</a>'\n",
              "            + ' to learn more about interactive tables.';\n",
              "          element.innerHTML = '';\n",
              "          dataTable['output_type'] = 'display_data';\n",
              "          await google.colab.output.renderOutput(dataTable, element);\n",
              "          const docLink = document.createElement('div');\n",
              "          docLink.innerHTML = docLinkHtml;\n",
              "          element.appendChild(docLink);\n",
              "        }\n",
              "      </script>\n",
              "    </div>\n",
              "  </div>\n",
              "  "
            ]
          },
          "metadata": {},
          "execution_count": 323
        }
      ]
    },
    {
      "cell_type": "code",
      "source": [
        "test.head()"
      ],
      "metadata": {
        "colab": {
          "base_uri": "https://localhost:8080/",
          "height": 270
        },
        "id": "t2nVWn2VEKUK",
        "outputId": "d7b57231-8672-4b4b-a3c0-f7e63ff2a2de"
      },
      "execution_count": null,
      "outputs": [
        {
          "output_type": "execute_result",
          "data": {
            "text/plain": [
              "       num_passengers sales_channel  trip_type  purchase_lead  length_of_stay  \\\n",
              "47826               2        Mobile  RoundTrip            106               6   \n",
              "13746               2      Internet     OneWay              3              17   \n",
              "10935               1      Internet  RoundTrip             60              20   \n",
              "34628               1        Mobile  RoundTrip              3               4   \n",
              "23638               1      Internet  RoundTrip            105              26   \n",
              "\n",
              "       flight_hour  flight_day   route booking_origin  wants_extra_baggage  \\\n",
              "47826           14           2  JHBTPE       Malaysia                    1   \n",
              "13746           12           5  ICNMEL    South Korea                    0   \n",
              "10935           14           7  DPSPUS    South Korea                    0   \n",
              "34628            2           6  PERTPE      Australia                    0   \n",
              "23638           20           6  PERSGN      Australia                    1   \n",
              "\n",
              "       wants_preferred_seat  wants_in_flight_meals  flight_duration  \n",
              "47826                     1                      1             4.67  \n",
              "13746                     1                      1             8.83  \n",
              "10935                     0                      0             6.33  \n",
              "34628                     0                      0             5.62  \n",
              "23638                     0                      0             5.62  "
            ],
            "text/html": [
              "\n",
              "  <div id=\"df-ba87cff3-5eee-487b-b330-5720fa2557ef\">\n",
              "    <div class=\"colab-df-container\">\n",
              "      <div>\n",
              "<style scoped>\n",
              "    .dataframe tbody tr th:only-of-type {\n",
              "        vertical-align: middle;\n",
              "    }\n",
              "\n",
              "    .dataframe tbody tr th {\n",
              "        vertical-align: top;\n",
              "    }\n",
              "\n",
              "    .dataframe thead th {\n",
              "        text-align: right;\n",
              "    }\n",
              "</style>\n",
              "<table border=\"1\" class=\"dataframe\">\n",
              "  <thead>\n",
              "    <tr style=\"text-align: right;\">\n",
              "      <th></th>\n",
              "      <th>num_passengers</th>\n",
              "      <th>sales_channel</th>\n",
              "      <th>trip_type</th>\n",
              "      <th>purchase_lead</th>\n",
              "      <th>length_of_stay</th>\n",
              "      <th>flight_hour</th>\n",
              "      <th>flight_day</th>\n",
              "      <th>route</th>\n",
              "      <th>booking_origin</th>\n",
              "      <th>wants_extra_baggage</th>\n",
              "      <th>wants_preferred_seat</th>\n",
              "      <th>wants_in_flight_meals</th>\n",
              "      <th>flight_duration</th>\n",
              "    </tr>\n",
              "  </thead>\n",
              "  <tbody>\n",
              "    <tr>\n",
              "      <th>47826</th>\n",
              "      <td>2</td>\n",
              "      <td>Mobile</td>\n",
              "      <td>RoundTrip</td>\n",
              "      <td>106</td>\n",
              "      <td>6</td>\n",
              "      <td>14</td>\n",
              "      <td>2</td>\n",
              "      <td>JHBTPE</td>\n",
              "      <td>Malaysia</td>\n",
              "      <td>1</td>\n",
              "      <td>1</td>\n",
              "      <td>1</td>\n",
              "      <td>4.67</td>\n",
              "    </tr>\n",
              "    <tr>\n",
              "      <th>13746</th>\n",
              "      <td>2</td>\n",
              "      <td>Internet</td>\n",
              "      <td>OneWay</td>\n",
              "      <td>3</td>\n",
              "      <td>17</td>\n",
              "      <td>12</td>\n",
              "      <td>5</td>\n",
              "      <td>ICNMEL</td>\n",
              "      <td>South Korea</td>\n",
              "      <td>0</td>\n",
              "      <td>1</td>\n",
              "      <td>1</td>\n",
              "      <td>8.83</td>\n",
              "    </tr>\n",
              "    <tr>\n",
              "      <th>10935</th>\n",
              "      <td>1</td>\n",
              "      <td>Internet</td>\n",
              "      <td>RoundTrip</td>\n",
              "      <td>60</td>\n",
              "      <td>20</td>\n",
              "      <td>14</td>\n",
              "      <td>7</td>\n",
              "      <td>DPSPUS</td>\n",
              "      <td>South Korea</td>\n",
              "      <td>0</td>\n",
              "      <td>0</td>\n",
              "      <td>0</td>\n",
              "      <td>6.33</td>\n",
              "    </tr>\n",
              "    <tr>\n",
              "      <th>34628</th>\n",
              "      <td>1</td>\n",
              "      <td>Mobile</td>\n",
              "      <td>RoundTrip</td>\n",
              "      <td>3</td>\n",
              "      <td>4</td>\n",
              "      <td>2</td>\n",
              "      <td>6</td>\n",
              "      <td>PERTPE</td>\n",
              "      <td>Australia</td>\n",
              "      <td>0</td>\n",
              "      <td>0</td>\n",
              "      <td>0</td>\n",
              "      <td>5.62</td>\n",
              "    </tr>\n",
              "    <tr>\n",
              "      <th>23638</th>\n",
              "      <td>1</td>\n",
              "      <td>Internet</td>\n",
              "      <td>RoundTrip</td>\n",
              "      <td>105</td>\n",
              "      <td>26</td>\n",
              "      <td>20</td>\n",
              "      <td>6</td>\n",
              "      <td>PERSGN</td>\n",
              "      <td>Australia</td>\n",
              "      <td>1</td>\n",
              "      <td>0</td>\n",
              "      <td>0</td>\n",
              "      <td>5.62</td>\n",
              "    </tr>\n",
              "  </tbody>\n",
              "</table>\n",
              "</div>\n",
              "      <button class=\"colab-df-convert\" onclick=\"convertToInteractive('df-ba87cff3-5eee-487b-b330-5720fa2557ef')\"\n",
              "              title=\"Convert this dataframe to an interactive table.\"\n",
              "              style=\"display:none;\">\n",
              "        \n",
              "  <svg xmlns=\"http://www.w3.org/2000/svg\" height=\"24px\"viewBox=\"0 0 24 24\"\n",
              "       width=\"24px\">\n",
              "    <path d=\"M0 0h24v24H0V0z\" fill=\"none\"/>\n",
              "    <path d=\"M18.56 5.44l.94 2.06.94-2.06 2.06-.94-2.06-.94-.94-2.06-.94 2.06-2.06.94zm-11 1L8.5 8.5l.94-2.06 2.06-.94-2.06-.94L8.5 2.5l-.94 2.06-2.06.94zm10 10l.94 2.06.94-2.06 2.06-.94-2.06-.94-.94-2.06-.94 2.06-2.06.94z\"/><path d=\"M17.41 7.96l-1.37-1.37c-.4-.4-.92-.59-1.43-.59-.52 0-1.04.2-1.43.59L10.3 9.45l-7.72 7.72c-.78.78-.78 2.05 0 2.83L4 21.41c.39.39.9.59 1.41.59.51 0 1.02-.2 1.41-.59l7.78-7.78 2.81-2.81c.8-.78.8-2.07 0-2.86zM5.41 20L4 18.59l7.72-7.72 1.47 1.35L5.41 20z\"/>\n",
              "  </svg>\n",
              "      </button>\n",
              "      \n",
              "  <style>\n",
              "    .colab-df-container {\n",
              "      display:flex;\n",
              "      flex-wrap:wrap;\n",
              "      gap: 12px;\n",
              "    }\n",
              "\n",
              "    .colab-df-convert {\n",
              "      background-color: #E8F0FE;\n",
              "      border: none;\n",
              "      border-radius: 50%;\n",
              "      cursor: pointer;\n",
              "      display: none;\n",
              "      fill: #1967D2;\n",
              "      height: 32px;\n",
              "      padding: 0 0 0 0;\n",
              "      width: 32px;\n",
              "    }\n",
              "\n",
              "    .colab-df-convert:hover {\n",
              "      background-color: #E2EBFA;\n",
              "      box-shadow: 0px 1px 2px rgba(60, 64, 67, 0.3), 0px 1px 3px 1px rgba(60, 64, 67, 0.15);\n",
              "      fill: #174EA6;\n",
              "    }\n",
              "\n",
              "    [theme=dark] .colab-df-convert {\n",
              "      background-color: #3B4455;\n",
              "      fill: #D2E3FC;\n",
              "    }\n",
              "\n",
              "    [theme=dark] .colab-df-convert:hover {\n",
              "      background-color: #434B5C;\n",
              "      box-shadow: 0px 1px 3px 1px rgba(0, 0, 0, 0.15);\n",
              "      filter: drop-shadow(0px 1px 2px rgba(0, 0, 0, 0.3));\n",
              "      fill: #FFFFFF;\n",
              "    }\n",
              "  </style>\n",
              "\n",
              "      <script>\n",
              "        const buttonEl =\n",
              "          document.querySelector('#df-ba87cff3-5eee-487b-b330-5720fa2557ef button.colab-df-convert');\n",
              "        buttonEl.style.display =\n",
              "          google.colab.kernel.accessAllowed ? 'block' : 'none';\n",
              "\n",
              "        async function convertToInteractive(key) {\n",
              "          const element = document.querySelector('#df-ba87cff3-5eee-487b-b330-5720fa2557ef');\n",
              "          const dataTable =\n",
              "            await google.colab.kernel.invokeFunction('convertToInteractive',\n",
              "                                                     [key], {});\n",
              "          if (!dataTable) return;\n",
              "\n",
              "          const docLinkHtml = 'Like what you see? Visit the ' +\n",
              "            '<a target=\"_blank\" href=https://colab.research.google.com/notebooks/data_table.ipynb>data table notebook</a>'\n",
              "            + ' to learn more about interactive tables.';\n",
              "          element.innerHTML = '';\n",
              "          dataTable['output_type'] = 'display_data';\n",
              "          await google.colab.output.renderOutput(dataTable, element);\n",
              "          const docLink = document.createElement('div');\n",
              "          docLink.innerHTML = docLinkHtml;\n",
              "          element.appendChild(docLink);\n",
              "        }\n",
              "      </script>\n",
              "    </div>\n",
              "  </div>\n",
              "  "
            ]
          },
          "metadata": {},
          "execution_count": 324
        }
      ]
    },
    {
      "cell_type": "code",
      "source": [
        "from __future__ import absolute_import, division, print_function, unicode_literals\n",
        "\n",
        "import numpy as np\n",
        "import pandas as pd\n",
        "import matplotlib.pyplot as plt\n",
        "from IPython.display import clear_output\n",
        "from six.moves import urllib\n",
        "\n",
        "import tensorflow.compat.v2.feature_column as fc\n",
        "\n",
        "import tensorflow as tf"
      ],
      "metadata": {
        "id": "gDa450yGFvod"
      },
      "execution_count": null,
      "outputs": []
    },
    {
      "cell_type": "code",
      "source": [
        "CATEGORICAL_COLUMNS = ['sales_channel', 'trip_type', 'route', 'booking_origin']\n",
        "NUMERIC_COLUMNS = ['num_passengers', 'purchase_lead', 'length_of_stay', 'flight_hour', 'flight_day', 'wants_extra_baggage', 'wants_preferred_seat', 'wants_in_flight_meals', 'flight_duration']\n",
        "\n",
        "feature_columns = []\n",
        "for feature_name in CATEGORICAL_COLUMNS:\n",
        "  vocabulary = train[feature_name].unique()  # gets a list of all unique values from given feature column\n",
        "  feature_columns.append(tf.feature_column.categorical_column_with_vocabulary_list(feature_name, vocabulary))\n",
        "\n",
        "for feature_name in NUMERIC_COLUMNS:\n",
        "  feature_columns.append(tf.feature_column.numeric_column(feature_name, dtype=tf.float32))\n",
        "\n",
        "print(feature_columns)"
      ],
      "metadata": {
        "colab": {
          "base_uri": "https://localhost:8080/"
        },
        "id": "YicrgYDjEvNW",
        "outputId": "2524e6c0-d143-4124-92e5-5e998dd21254"
      },
      "execution_count": null,
      "outputs": [
        {
          "output_type": "stream",
          "name": "stdout",
          "text": [
            "[VocabularyListCategoricalColumn(key='sales_channel', vocabulary_list=('Internet', 'Mobile'), dtype=tf.string, default_value=-1, num_oov_buckets=0), VocabularyListCategoricalColumn(key='trip_type', vocabulary_list=('RoundTrip', 'OneWay', 'CircleTrip'), dtype=tf.string, default_value=-1, num_oov_buckets=0), VocabularyListCategoricalColumn(key='route', vocabulary_list=('CANMEL', 'HNDSIN', 'ICNSYD', 'HKTPVG', 'PENTPE', 'CTUDPS', 'HKTPEK', 'PERPNH', 'KTMMFM', 'MELSGN', 'HKTPER', 'BKIOOL', 'DMKPER', 'AKLKUL', 'HDYPEK', 'KCHSYD', 'SGNSYD', 'DMKMEL', 'DPSSYD', 'DMKKIX', 'DELDPS', 'HNDIKA', 'DMKICN', 'CGKHND', 'HGHPEN', 'COKMEL', 'COKOOL', 'DPSPVG', 'MNLPER', 'HANSYD', 'KCHOOL', 'JHBXIY', 'BDOHGH', 'HKTSYD', 'HKGPER', 'DPSICN', 'HNDPEN', 'BTUCKG', 'CGKKIX', 'CGKHGH', 'KLOMEL', 'CMBMEL', 'DMKSYD', 'DMKPUS', 'ICNMEL', 'OOLTPE', 'CNXKIX', 'ICNPER', 'DELPER', 'OOLSZX', 'CGKPUS', 'MELPEN', 'KIXSIN', 'DMKOOL', 'CNXICN', 'BKIKIX', 'HNDKNO', 'CGKMEL', 'ICNJHB', 'HKGMEL', 'CMBSYD', 'PEKPEN', 'PENPER', 'SYDTRZ', 'MELTPE', 'MNLOOL', 'BKIPEK', 'CKGPEN', 'CGKPEK', 'DMKHND', 'HKGIKA', 'PENPVG', 'ICNSIN', 'CGKPER', 'COKPER', 'BKIICN', 'DACSYD', 'KNOMEL', 'ICNKBV', 'KCHPEK', 'KBVPEK', 'HGHTWU', 'COKSYD', 'HNDSYD', 'BKICTS', 'CGKSYD', 'RGNTPE', 'BWNPER', 'IKAOOL', 'PERPVG', 'BWNTPE', 'CNXMEL', 'PEKSIN', 'KIXPER', 'KIXSGN', 'HKTICN', 'MELTRZ', 'KNOTPE', 'MLEPER', 'DPSHND', 'OOLPEK', 'DMKMRU', 'KBVKIX', 'KCHPER', 'MELPNH', 'SINWUH', 'CGKCTS', 'BKIKTM', 'HDYTPE', 'BTUPER', 'DADMEL', 'LGKPER', 'BKIMEL', 'CCUMEL', 'DPSPUS', 'OOLSBW', 'MAAMEL', 'JHBPUS', 'KBVTPE', 'CNXSYD', 'JHBKTM', 'HKTTPE', 'DPSMEL', 'DELSYD', 'DPSTPE', 'KIXSUB', 'KIXRGN', 'KBVXIY', 'PERTPE', 'HDYMEL', 'HKTHND', 'HYDSYD', 'MAAPER', 'HKGSYD', 'CCUSYD', 'PUSSYD', 'PNHSYD', 'MELRGN', 'PEKTRZ', 'OOLSGN', 'IKAMFM', 'OOLPNH', 'IKAPER', 'CGKICN', 'KIXMLE', 'KCHMEL', 'COKICN', 'PENSYD', 'CTUPEN', 'PERUTP', 'DPSPEK', 'JHBKIX', 'HNDMEL', 'CGKXIY', 'KIXPEN', 'ICNOOL', 'PERSGN', 'OOLPEN', 'AKLDEL', 'BLRMEL', 'KNOPUS', 'IKATPE', 'LPQPER', 'PUSSIN', 'CTUMEL', 'ICNLGK', 'DADOOL', 'KNOPER', 'BDOKIX', 'CMBOOL', 'OOLWUH', 'DACKIX', 'HYDMEL', 'HYDPER', 'MELMNL', 'DELMEL', 'CEBOOL', 'CMBHND', 'DELRGN', 'MAASYD', 'HKTKIX', 'AORKIX', 'LGKPVG', 'KCHTPE', 'BBIOOL', 'CTSDMK', 'CMBPER', 'KBVSYD', 'SYDTPE', 'DPSHGH', 'PEKSBW', 'OOLURT', 'KIXREP', 'HYDOOL', 'CGKTPE', 'ICNPEN', 'CTSPEN', 'ICNIKA', 'CGKDEL', 'MYYXIY', 'KCHPUS', 'KIXKNO', 'KNOSYD', 'KBRKIX', 'TRZWUH', 'LOPPEK', 'HNDPER', 'PUSSBW', 'DMKPEK', 'CTSHKT', 'BDOCTU', 'MNLSYD', 'ICNMLE', 'CNXOOL', 'CTUHKT', 'HKTMEL', 'MYYPER', 'PEKTWU', 'DPSKIX', 'PEKSYD', 'KIXSYD', 'OOLPUS', 'DPSOOL', 'KTMPEN', 'DELMNL', 'ICNSGN', 'CCUOOL', 'MELPVG', 'JHBMEL', 'SBWTPE', 'PERSIN', 'JOGPVG', 'MRUPVG', 'BWNKTM', 'IKASYD', 'PERSBW', 'ICNKBR', 'HGHTRZ', 'MELSBW', 'KIXMEL', 'CTUJHB', 'DACICN', 'IKAMEL', 'HNDOOL', 'CTUPER', 'LGKTPE', 'PVGSYD', 'BLRICN', 'CGKPVG', 'DELHND', 'BTUICN', 'CMBPVG', 'KIXOOL', 'DELLGK', 'CGKOOL', 'PUSRGN', 'CCUTPE', 'PVGRGN', 'OOLVTE', 'CNXPER', 'BKIPVG', 'KCHPVG', 'MELVTZ', 'SDKSYD', 'HANPER', 'MELPEK', 'DELPEN', 'JOGSYD', 'REPSYD', 'CCUPER', 'TPETRZ', 'HKGOOL', 'MAAPVG', 'ICNVTZ', 'CNXTPE', 'MAAOOL', 'COKKIX', 'KCHXIY', 'CANPER', 'HNDREP', 'HKTOOL', 'ICNMYY', 'GOIOOL', 'KIXLOP', 'BWNOOL', 'AORKTM', 'BKIPER', 'KTMPER', 'PERPUS', 'DPSKTM', 'PERREP', 'KBVPER', 'CKGMEL', 'PEKTGG', 'HNDPNH', 'CGKWUH', 'REPTPE', 'MELSIN', 'MLETPE', 'CKGSIN', 'DELKNO', 'DELHKT', 'HANOOL', 'DMKTPE', 'AORMEL', 'KIXLGK', 'HNDLGK', 'HNDLOP', 'CTSLGK', 'CNXPEK', 'KBRPER', 'DELSIN', 'KNOOOL', 'BDOPER', 'CTUSUB', 'MELXIY', 'MELREP', 'MELMRU', 'BDOOOL', 'LGKMEL', 'PVGTWU', 'GOIMEL', 'PERTRZ', 'COKTPE', 'JHBTPE', 'RGNSYD', 'PENPUS', 'ICNKCH', 'HNDSUB', 'SUBTPE', 'BKIHND', 'BDOSYD', 'HKGMRU', 'HKTPUS', 'OOLREP', 'HNDKCH', 'CRKMEL', 'LGKPEK', 'PEKREP', 'DACMEL', 'DELKIX', 'SINTPE', 'AKLTPE', 'OOLTRZ', 'HANMEL', 'MLEPVG', 'PUSTRZ', 'DMKKTM', 'CTUTWU', 'PERVTZ', 'JHBWUH', 'LOPPER', 'COKHGH', 'CGKKTM', 'PERRGN', 'DELSGN', 'KOSPEK', 'CMBMRU', 'CTUKNO', 'CTSSGN', 'OOLPVG', 'SBWSYD', 'BLRPER', 'KBROOL', 'KTMTPE', 'BKIPUS', 'MRUSYD', 'HGHHKT', 'PEKSUB', 'CTUSYD', 'CTUMAA', 'JHBPVG', 'KBRPUS', 'KTMMEL', 'CTUKBV', 'BKICKG', 'BDOWUH', 'SINSYD', 'DELMRU', 'JOGKIX', 'BKISYD', 'CTSSUB', 'CMBKIX', 'BWNDEL', 'DELDMK', 'ICNSUB', 'ICNRGN', 'HDYXIY', 'KIXPNH', 'CTUSIN', 'DPSXIY', 'BWNMEL', 'BLRSYD', 'DELJHB', 'MYYOOL', 'DADSYD', 'PEKPER', 'BKICTU', 'CTSDPS', 'BDOMEL', 'AKLICN', 'DELOOL', 'CTSSIN', 'HGHSIN', 'HDYPER', 'BDOCTS', 'DMKIKA', 'LOPSYD', 'MELSUB', 'BOMPER', 'PVGSUB', 'CMBICN', 'HGHMRU', 'MELPUS', 'CGKCTU', 'KBRMEL', 'LGKOOL', 'KNOPEK', 'CEBSYD', 'KHHPER', 'HNDTRZ', 'PENXIY', 'MELMYY', 'HGHJHB', 'CEBMEL', 'CMBHGH', 'MFMPER', 'PERXIY', 'CTSOOL', 'COKPUS', 'BDOPUS', 'KIXTWU', 'HKTWUH', 'IKALOP', 'DMKPVG', 'DACHND', 'BKIXIY', 'JHBSYD', 'CNXHND', 'JHBOOL', 'DACPER', 'BDOTPE', 'HNDSBW', 'KBVPVG', 'KTMSGN', 'AORICN', 'KIXSBW', 'SBWWUH', 'HGHMEL', 'MELMLE', 'ICNKTM', 'KNOXIY', 'KIXTGG', 'JOGTPE', 'HNDKBR', 'AKLKIX', 'CGKJED', 'CGKIKA', 'MAATPE', 'AKLKTM', 'CNXPVG', 'JOGMEL', 'PERTWU', 'CKGDPS', 'ICNKNO', 'TGGTPE', 'SUBSYD', 'CTSPER', 'CTUREP', 'IKASGN', 'KBRPEK', 'CTUKCH', 'OOLSIN', 'ICNSBW', 'BOMMEL', 'MRUPEK', 'CKGJHB', 'URTXIY', 'CTUTRZ', 'KBVMEL', 'JHBPEK', 'HGHSBW', 'HNDSGN', 'KTMSYD', 'KBRPVG', 'LGKSYD', 'CANMRU', 'CTSJHB', 'DELURT', 'SINXIY', 'DELKBV', 'BTUSYD', 'KCHKTM', 'BWNSYD', 'KHHMEL', 'DACTPE', 'BWNCKG', 'PVGSIN', 'IKAMNL', 'CTSSYD', 'CTUTGG', 'SYDTWU', 'CRKOOL', 'KBRTPE', 'HGHTGG', 'IKASIN', 'BOMSYD', 'KIXMAA', 'MELMFM', 'HNDMLE', 'DELHKG', 'DELSBW', 'CTULOP', 'KCHKIX', 'DELMYY', 'HGHPER', 'BDOPEK', 'LOPTPE', 'KTMSUB', 'ICNMAA', 'CMBPEK', 'HGHOOL', 'HKGKTM', 'PNKTPE', 'HNDKBV', 'LOPPVG', 'LGKWUH', 'LGKPUS', 'CKGMRU', 'HNDJOG', 'CKGSBW', 'HKTXIY', 'KIXMRU', 'CKGHKT', 'HNDRGN', 'OOLXIY', 'GOIKUL', 'HGHKCH', 'MELURT', 'DPSWUH', 'DACOOL', 'MYYSYD', 'CGKCKG', 'GOIPER', 'PVGTGG', 'ICNTRZ', 'HGHSUB', 'KHHOOL', 'PERSDK', 'HGHSYD', 'CANOOL', 'CKGKCH', 'PENWUH', 'CTSKBR', 'KTMTGG', 'CANSYD', 'BDOICN', 'ICNREP', 'HGHJOG', 'HYDWUH', 'KTMSIN', 'ICNTGG', 'AKLPVG', 'TPETWU', 'OOLSDK', 'CKGSUB', 'CKGSGN', 'MRUSUB', 'CTUURT', 'CTUDMK', 'HGHKNO', 'KBVOOL', 'JHBMRU', 'SRGTPE', 'CTUSBW', 'MELTWU', 'JEDMFM', 'HGHMAA', 'OOLRGN', 'CKGSYD', 'SYDSZX', 'COKWUH', 'CTSMEL', 'COKCTU', 'IKASZX', 'CNXDEL', 'KIXLPQ', 'SGNXIY', 'CTUSGN', 'MRUPER', 'HGHLGK', 'CTSSBW', 'CKGTWU', 'IKAPUS', 'KNOPVG', 'DELSUB', 'CANDEL', 'HGHMYY', 'PERSUB', 'MRUSIN', 'BDOPVG', 'CKGCOK', 'LPQMEL', 'MRUTPE', 'LBUTPE', 'CTSKNO', 'KIXKTM', 'KOSSYD', 'IKAPEN', 'DELREP', 'CTSKCH', 'HGHKBR', 'MRUOOL', 'HKTMRU', 'PNHTPE', 'PVGURT', 'DACHGH', 'HGHLOP', 'BDOXIY', 'KTMREP', 'MLESYD', 'JEDMEL', 'MAAMRU', 'LGKXIY', 'MELUTP', 'OOLTWU', 'SBWXIY', 'BBISYD', 'KBRWUH', 'HNDMAA', 'CTULGK', 'KIXTRZ', 'PERWUH', 'BDOIKA', 'BOMOOL', 'KTMMYY', 'SYDVTE', 'PVGREP', 'CNXPUS', 'PERSZX', 'IKAKIX', 'DELPNH', 'OOLSUB', 'HGHSGN', 'MFMOOL', 'BWNIKA', 'SUBXIY', 'MFMSYD', 'KIXMYY', 'CEBPER', 'KLOSYD', 'MELTGG', 'LBUPER', 'OOLUTP', 'KOSOOL', 'JEDKNO', 'GOISYD', 'HDYPVG', 'HYDMRU', 'CNXXIY', 'ICNMRU', 'DMKHGH', 'DPSMRU', 'LPQTPE', 'CRKSYD', 'CTUMLE', 'HNDKTM', 'CSXSYD', 'KBVPUS', 'BWNHGH', 'HDYKIX', 'HDYOOL', 'MYYPUS', 'MRUSZX', 'JEDPDG', 'IKAPVG', 'CTUSRG', 'TWUXIY', 'ICNSDK', 'CMBCTU', 'MRUPEN', 'CTUMYY', 'PUSSUB', 'AKLMRU', 'HANKTM', 'LOPXIY', 'TRZXIY', 'CKGPER', 'CTSJOG', 'KBRSYD', 'MLEPEK', 'HDYKTM', 'PVGSGN', 'CTUOOL', 'HGHKBV', 'JEDJOG', 'CSXMRU', 'PEKRGN', 'KLOOOL', 'PERTGG', 'CKGTRZ', 'MNLMRU', 'JEDSUB', 'MELWUH', 'JOGOOL', 'DPSIKA', 'CKGLGK', 'TGGXIY', 'IKASUB', 'OOLTGG', 'KWLPER', 'JOGPER', 'CKGOOL', 'KCHMRU', 'SYDXIY', 'AKLPEK', 'BKIDEL', 'PUSSGN', 'SUBWUH', 'KBRKTM', 'CTSMYY', 'KHHSYD', 'KBVKTM', 'DELKCH', 'HDYSYD', 'BTJJED', 'DELJOG', 'KBVWUH', 'DELMFM', 'CKGLOP', 'MELSWA', 'CANIKA', 'CTUIKA', 'DELSZX', 'KCHWUH', 'CGKMRU', 'HKTKTM', 'NRTSYD', 'CTUKBR', 'LPQOOL', 'TWUWUH', 'MLEOOL', 'CTUMRU', 'CMBWUH', 'AKLHND', 'CSXPER', 'BBIMEL', 'CXRMEL', 'COKCTS', 'AKLHGH', 'BWNWUH', 'LOPOOL', 'HDYHGH', 'BBIPER', 'CKGMYY', 'MRUXIY', 'CKGMAA', 'MAAWUH', 'CKGPNH', 'IKAKCH', 'MELSZX', 'BTUWUH', 'BKIMRU', 'KTMURT', 'MELNRT', 'DELKBR', 'HKTJED', 'SYDVTZ', 'CCUMRU', 'TPEVTE', 'JEDMNL', 'SDKTPE', 'CKGKNO', 'ICNVTE', 'KOSMEL', 'CMBCTS', 'DACPUS', 'JOGKTM', 'PERSWA', 'KBRXIY', 'AORPER', 'MELVTE', 'MRUSGN', 'CKGTGG', 'AORPUS', 'ICNJED', 'DACPEK', 'IKAPEK', 'JEDPEN'), dtype=tf.string, default_value=-1, num_oov_buckets=0), VocabularyListCategoricalColumn(key='booking_origin', vocabulary_list=('Australia', 'Malaysia', 'China', 'Macau', 'New Zealand', 'Thailand', 'India', 'Japan', 'South Korea', 'Indonesia', 'Finland', 'Hong Kong', 'United Kingdom', 'Taiwan', 'Sweden', 'Singapore', 'Poland', 'Italy', 'Myanmar (Burma)', 'Brunei', 'Nepal', 'Cambodia', 'Saudi Arabia', 'United States', 'Philippines', 'Netherlands', 'Kuwait', '(not set)', 'Vietnam', 'Sri Lanka', 'Romania', 'Bangladesh', 'Canada', 'Spain', 'Iran', 'Chile', 'Jordan', 'France', 'United Arab Emirates', 'Switzerland', 'Mauritius', 'Austria', 'Germany', 'Mongolia', 'Laos', 'Czech Republic', 'Estonia', 'Mexico', 'Russia', 'Bahrain', 'Belgium', 'Denmark', 'New Caledonia', 'Kenya', 'Slovakia', 'Pakistan', 'Portugal', 'Peru', 'Algeria', 'Kazakhstan', 'Ireland', 'Qatar', 'Timor-Leste', 'Maldives', 'Réunion', 'Afghanistan', 'Greece', 'Turkey', 'Guam', 'Oman', 'Belarus', 'Argentina', 'Svalbard & Jan Mayen', 'Colombia', 'Panama', 'Norfolk Island', 'Papua New Guinea', 'Guatemala', 'Solomon Islands', 'Hungary', 'Tunisia', 'Gibraltar', 'Brazil', 'South Africa', 'Ukraine', 'Tanzania', 'Seychelles', 'Israel', 'Norway', 'Paraguay', 'Egypt', 'Croatia', 'Malta', 'Cyprus', 'Iraq', 'Nicaragua', 'Czechia', 'Lebanon'), dtype=tf.string, default_value=-1, num_oov_buckets=0), NumericColumn(key='num_passengers', shape=(1,), default_value=None, dtype=tf.float32, normalizer_fn=None), NumericColumn(key='purchase_lead', shape=(1,), default_value=None, dtype=tf.float32, normalizer_fn=None), NumericColumn(key='length_of_stay', shape=(1,), default_value=None, dtype=tf.float32, normalizer_fn=None), NumericColumn(key='flight_hour', shape=(1,), default_value=None, dtype=tf.float32, normalizer_fn=None), NumericColumn(key='flight_day', shape=(1,), default_value=None, dtype=tf.float32, normalizer_fn=None), NumericColumn(key='wants_extra_baggage', shape=(1,), default_value=None, dtype=tf.float32, normalizer_fn=None), NumericColumn(key='wants_preferred_seat', shape=(1,), default_value=None, dtype=tf.float32, normalizer_fn=None), NumericColumn(key='wants_in_flight_meals', shape=(1,), default_value=None, dtype=tf.float32, normalizer_fn=None), NumericColumn(key='flight_duration', shape=(1,), default_value=None, dtype=tf.float32, normalizer_fn=None)]\n"
          ]
        }
      ]
    },
    {
      "cell_type": "code",
      "source": [
        "def make_input_fn(data_df, label_df, num_epochs=10, shuffle=True, batch_size=32):\n",
        "  def input_function():  # inner function, this will be returned\n",
        "    ds = tf.data.Dataset.from_tensor_slices((dict(data_df), label_df))  # create tf.data.Dataset object with data and its label\n",
        "    if shuffle:\n",
        "      ds = ds.shuffle(1000)  # randomize order of data\n",
        "    ds = ds.batch(batch_size).repeat(num_epochs)  # split dataset into batches of 32 and repeat process for number of epochs\n",
        "    return ds  # return a batch of the dataset\n",
        "  return input_function  # return a function object for use\n",
        "\n",
        "train_input_fn = make_input_fn(train, y_train)  # here we will call the input_function that was returned to us to get a dataset object we can feed to the model\n",
        "eval_input_fn = make_input_fn(test, y_test, num_epochs=1, shuffle=False)"
      ],
      "metadata": {
        "id": "Iv6BPsopF4zk"
      },
      "execution_count": null,
      "outputs": []
    },
    {
      "cell_type": "code",
      "source": [
        "linear_est = tf.estimator.LinearClassifier(feature_columns=feature_columns, n_classes=2)\n",
        "# We create a linear estimtor by passing the feature columns we created earlier"
      ],
      "metadata": {
        "colab": {
          "base_uri": "https://localhost:8080/"
        },
        "id": "v2s4ZQL2Gwed",
        "outputId": "c04bfbff-d3b2-43cf-a7fc-e3ae2db138ee"
      },
      "execution_count": null,
      "outputs": [
        {
          "output_type": "stream",
          "name": "stderr",
          "text": [
            "WARNING:tensorflow:Using temporary folder as model directory: /tmp/tmp6pcc5qmj\n"
          ]
        }
      ]
    },
    {
      "cell_type": "code",
      "source": [
        "linear_est.train(train_input_fn)  # train\n",
        "result = linear_est.evaluate(eval_input_fn)  # get model metrics/stats by testing on tetsing data\n",
        "\n",
        "clear_output()  # clears consoke output\n",
        "print(result['accuracy'])  # the result variable is simply a dict of stats about our model\n",
        "\n"
      ],
      "metadata": {
        "colab": {
          "base_uri": "https://localhost:8080/"
        },
        "id": "h4TwLy1PG7Du",
        "outputId": "496516da-87f5-4748-880a-99c9d02e6dce"
      },
      "execution_count": null,
      "outputs": [
        {
          "output_type": "stream",
          "name": "stdout",
          "text": [
            "0.8483\n"
          ]
        }
      ]
    },
    {
      "cell_type": "code",
      "source": [
        "pred_dicts = list(linear_est.predict(eval_input_fn))\n",
        "probs = pd.Series([pred['probabilities'][1] for pred in pred_dicts])\n",
        "\n",
        "probs.plot(kind='hist', bins=20, title='predicted probabilities')"
      ],
      "metadata": {
        "colab": {
          "base_uri": "https://localhost:8080/",
          "height": 306
        },
        "id": "7g4V6WRPHZjf",
        "outputId": "c4e3b383-7727-4adf-d767-c711166ddaac"
      },
      "execution_count": null,
      "outputs": [
        {
          "output_type": "execute_result",
          "data": {
            "text/plain": [
              "<matplotlib.axes._subplots.AxesSubplot at 0x7f8bdd0d7430>"
            ]
          },
          "metadata": {},
          "execution_count": 330
        },
        {
          "output_type": "display_data",
          "data": {
            "text/plain": [
              "<Figure size 432x288 with 1 Axes>"
            ],
            "image/png": "[encoded data removed]"
          },
          "metadata": {}
        }
      ]
    },
    {
      "cell_type": "code",
      "source": [
        "from numpy.lib.function_base import append\n",
        "x = []\n",
        "y = []\n",
        "tot = []\n",
        "\n",
        "for i in probs:\n",
        "  if i >= 0.5:\n",
        "    x.append(i)\n",
        "    tot.append(1)\n",
        "  else:\n",
        "    y.append(i)\n",
        "    tot.append(0)\n",
        "    \n",
        "\n",
        "print(len(x), len(y))\n",
        "y_test.value_counts()"
      ],
      "metadata": {
        "colab": {
          "base_uri": "https://localhost:8080/"
        },
        "id": "A75qBGYXLLjJ",
        "outputId": "470d83bb-be98-4bf0-ad33-c482258ff029"
      },
      "execution_count": null,
      "outputs": [
        {
          "output_type": "stream",
          "name": "stdout",
          "text": [
            "209 9791\n"
          ]
        },
        {
          "output_type": "execute_result",
          "data": {
            "text/plain": [
              "0    8470\n",
              "1    1530\n",
              "Name: booking_complete, dtype: int64"
            ]
          },
          "metadata": {},
          "execution_count": 331
        }
      ]
    },
    {
      "cell_type": "code",
      "source": [
        "from sklearn.metrics import classification_report\n",
        "\n",
        "print(classification_report(y_test, tot))\n"
      ],
      "metadata": {
        "colab": {
          "base_uri": "https://localhost:8080/"
        },
        "id": "Jp8FzhiswqQC",
        "outputId": "a6dcd5f4-5fc0-487e-e744-78459e51a010"
      },
      "execution_count": null,
      "outputs": [
        {
          "output_type": "stream",
          "name": "stdout",
          "text": [
            "              precision    recall  f1-score   support\n",
            "\n",
            "           0       0.86      0.99      0.92      8470\n",
            "           1       0.53      0.07      0.13      1530\n",
            "\n",
            "    accuracy                           0.85     10000\n",
            "   macro avg       0.69      0.53      0.52     10000\n",
            "weighted avg       0.81      0.85      0.80     10000\n",
            "\n"
          ]
        }
      ]
    },
    {
      "cell_type": "code",
      "source": [
        "from sklearn.metrics import mean_absolute_error\n",
        "print(\"MAE\",mean_absolute_error(y_test,tot))"
      ],
      "metadata": {
        "colab": {
          "base_uri": "https://localhost:8080/"
        },
        "id": "s6-DQBqoxq3b",
        "outputId": "a9c43b46-3a8f-49e7-9620-a76dec893e0c"
      },
      "execution_count": null,
      "outputs": [
        {
          "output_type": "stream",
          "name": "stdout",
          "text": [
            "MAE 0.1517\n"
          ]
        }
      ]
    },
    {
      "cell_type": "code",
      "source": [
        "from sklearn.metrics import mean_squared_error\n",
        "print(\"MSE\",mean_squared_error(y_test,tot))"
      ],
      "metadata": {
        "colab": {
          "base_uri": "https://localhost:8080/"
        },
        "id": "QHQT_7Ul4EsW",
        "outputId": "c3036a60-cd4b-4249-dac1-df2a8eb53931"
      },
      "execution_count": null,
      "outputs": [
        {
          "output_type": "stream",
          "name": "stdout",
          "text": [
            "MSE 0.1517\n"
          ]
        }
      ]
    }
  ],
  "metadata": {
    "kernelspec": {
      "display_name": "Python 3.9.13 ('venv': venv)",
      "language": "python",
      "name": "python3"
    },
    "language_info": {
      "codemirror_mode": {
        "name": "ipython",
        "version": 3
      },
      "file_extension": ".py",
      "mimetype": "text/x-python",
      "name": "python",
      "nbconvert_exporter": "python",
      "pygments_lexer": "ipython3",
      "version": "3.9.13"
    },
    "orig_nbformat": 4,
    "vscode": {
      "interpreter": {
        "hash": "4f7924c4c56b083e0e50eadfe7ef592a7a8ef70df33a0047f82280e6be1afe15"
      }
    },
    "colab": {
      "provenance": [],
      "include_colab_link": true
    }
  },
  "nbformat": 4,
  "nbformat_minor": 0
}